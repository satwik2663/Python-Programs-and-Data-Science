{
 "cells": [
  {
   "cell_type": "code",
   "execution_count": null,
   "metadata": {},
   "outputs": [],
   "source": [
    "from selenium import webdriver\n",
    "\n",
    "driver = webdriver.Chrome(executable_path = 'A:\\PERSONAL\\Installers\\Chrome Driver\\chromedriver_win32/chromedriver.exe')\n",
    "driver.get('https://www.google.com')\n",
    "driver.find_element_by_xpath(r'//*[@id=\"tsf\"]/div[2]/div/div[1]/div/div[1]/input').send_keys('Restaurants')\n",
    "search_google = driver.find_element_by_xpath(r'//*[@id=\"tsf\"]/div[2]/div/div[2]/div[2]/div/center/input[1]')\n",
    "driver.execute_script('arguments[0].click();', search_google)\n",
    "maps_google = driver.find_element_by_xpath('//*[@id=\"hdtb-msb-vis\"]/div[2]/a')\n",
    "driver.execute_script(\"arguments[0].click();\", maps_google)\n",
    "\n",
    "driver.find_element_by_id('searchboxinput').clear()\n",
    "driver.find_element_by_id('searchboxinput').send_keys('Resturants near me')\n",
    "maps_google_search = driver.find_element_by_xpath(r'//*[@id=\"searchbox-searchbutton\"]')\n",
    "driver.execute_script('arguments[0].click();',maps_google_search)"
   ]
  }
 ],
 "metadata": {
  "kernelspec": {
   "display_name": "Python 3",
   "language": "python",
   "name": "python3"
  },
  "language_info": {
   "codemirror_mode": {
    "name": "ipython",
    "version": 3
   },
   "file_extension": ".py",
   "mimetype": "text/x-python",
   "name": "python",
   "nbconvert_exporter": "python",
   "pygments_lexer": "ipython3",
   "version": "3.7.1"
  }
 },
 "nbformat": 4,
 "nbformat_minor": 2
}
