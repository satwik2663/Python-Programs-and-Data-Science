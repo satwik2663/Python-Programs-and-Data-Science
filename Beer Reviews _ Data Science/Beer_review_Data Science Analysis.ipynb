{
 "cells": [
  {
   "cell_type": "markdown",
   "metadata": {},
   "source": [
    "## CIRCLE DATA SCIENCE "
   ]
  },
  {
   "cell_type": "code",
   "execution_count": 449,
   "metadata": {},
   "outputs": [],
   "source": [
    "# importing libraries\n",
    "\n",
    "import pandas as pd\n",
    "import seaborn as sns\n",
    "import matplotlib.pyplot as plt\n",
    "import numpy as np\n",
    "from sklearn.utils import shuffle\n",
    "from sklearn.preprocessing import StandardScaler\n",
    "from sklearn.model_selection import train_test_split\n",
    "from sklearn.linear_model import LogisticRegression\n",
    "from sklearn.ensemble import RandomForestClassifier\n",
    "from sklearn.ensemble import RandomForestRegressor\n",
    "from sklearn.linear_model import LinearRegression\n",
    "from sklearn.metrics import accuracy_score,confusion_matrix,classification_report\n",
    "from math import sqrt\n",
    "import sklearn\n",
    "from scipy.stats import skew\n",
    "import featuretools as ft\n",
    "from sklearn.metrics import mean_squared_error\n",
    "from math import sqrt"
   ]
  },
  {
   "cell_type": "markdown",
   "metadata": {},
   "source": [
    "## 1. Load Dataset"
   ]
  },
  {
   "cell_type": "code",
   "execution_count": 365,
   "metadata": {},
   "outputs": [],
   "source": [
    "# importing dataset\n",
    "\n",
    "beer_data = pd.read_csv(r'.\\beer_reviews_2.csv')"
   ]
  },
  {
   "cell_type": "code",
   "execution_count": 366,
   "metadata": {},
   "outputs": [
    {
     "data": {
      "text/html": [
       "<div>\n",
       "<style scoped>\n",
       "    .dataframe tbody tr th:only-of-type {\n",
       "        vertical-align: middle;\n",
       "    }\n",
       "\n",
       "    .dataframe tbody tr th {\n",
       "        vertical-align: top;\n",
       "    }\n",
       "\n",
       "    .dataframe thead th {\n",
       "        text-align: right;\n",
       "    }\n",
       "</style>\n",
       "<table border=\"1\" class=\"dataframe\">\n",
       "  <thead>\n",
       "    <tr style=\"text-align: right;\">\n",
       "      <th></th>\n",
       "      <th>brewery_id</th>\n",
       "      <th>brewery_name</th>\n",
       "      <th>review_time</th>\n",
       "      <th>review_overall</th>\n",
       "      <th>review_aroma</th>\n",
       "      <th>review_appearance</th>\n",
       "      <th>review_profilename</th>\n",
       "      <th>beer_style</th>\n",
       "      <th>review_palate</th>\n",
       "      <th>review_taste</th>\n",
       "      <th>beer_name</th>\n",
       "      <th>beer_abv</th>\n",
       "      <th>beer_beerid</th>\n",
       "    </tr>\n",
       "  </thead>\n",
       "  <tbody>\n",
       "    <tr>\n",
       "      <th>0</th>\n",
       "      <td>10325</td>\n",
       "      <td>Vecchio Birraio</td>\n",
       "      <td>1234817823</td>\n",
       "      <td>1.5</td>\n",
       "      <td>2.0</td>\n",
       "      <td>2.5</td>\n",
       "      <td>stcules</td>\n",
       "      <td>Hefeweizen</td>\n",
       "      <td>1.5</td>\n",
       "      <td>1.5</td>\n",
       "      <td>Sausa Weizen</td>\n",
       "      <td>5.0</td>\n",
       "      <td>47986</td>\n",
       "    </tr>\n",
       "    <tr>\n",
       "      <th>1</th>\n",
       "      <td>10325</td>\n",
       "      <td>Vecchio Birraio</td>\n",
       "      <td>1235915097</td>\n",
       "      <td>3.0</td>\n",
       "      <td>2.5</td>\n",
       "      <td>3.0</td>\n",
       "      <td>stcules</td>\n",
       "      <td>English Strong Ale</td>\n",
       "      <td>3.0</td>\n",
       "      <td>3.0</td>\n",
       "      <td>Red Moon</td>\n",
       "      <td>6.2</td>\n",
       "      <td>48213</td>\n",
       "    </tr>\n",
       "    <tr>\n",
       "      <th>2</th>\n",
       "      <td>10325</td>\n",
       "      <td>Vecchio Birraio</td>\n",
       "      <td>1235916604</td>\n",
       "      <td>3.0</td>\n",
       "      <td>2.5</td>\n",
       "      <td>3.0</td>\n",
       "      <td>stcules</td>\n",
       "      <td>Foreign / Export Stout</td>\n",
       "      <td>3.0</td>\n",
       "      <td>3.0</td>\n",
       "      <td>Black Horse Black Beer</td>\n",
       "      <td>6.5</td>\n",
       "      <td>48215</td>\n",
       "    </tr>\n",
       "    <tr>\n",
       "      <th>3</th>\n",
       "      <td>10325</td>\n",
       "      <td>Vecchio Birraio</td>\n",
       "      <td>1234725145</td>\n",
       "      <td>3.0</td>\n",
       "      <td>3.0</td>\n",
       "      <td>3.5</td>\n",
       "      <td>stcules</td>\n",
       "      <td>German Pilsener</td>\n",
       "      <td>2.5</td>\n",
       "      <td>3.0</td>\n",
       "      <td>Sausa Pils</td>\n",
       "      <td>5.0</td>\n",
       "      <td>47969</td>\n",
       "    </tr>\n",
       "    <tr>\n",
       "      <th>4</th>\n",
       "      <td>1075</td>\n",
       "      <td>Caldera Brewing Company</td>\n",
       "      <td>1293735206</td>\n",
       "      <td>4.0</td>\n",
       "      <td>4.5</td>\n",
       "      <td>4.0</td>\n",
       "      <td>johnmichaelsen</td>\n",
       "      <td>American Double / Imperial IPA</td>\n",
       "      <td>4.0</td>\n",
       "      <td>4.5</td>\n",
       "      <td>Cauldron DIPA</td>\n",
       "      <td>7.7</td>\n",
       "      <td>64883</td>\n",
       "    </tr>\n",
       "  </tbody>\n",
       "</table>\n",
       "</div>"
      ],
      "text/plain": [
       "   brewery_id             brewery_name  review_time  review_overall  \\\n",
       "0       10325          Vecchio Birraio   1234817823             1.5   \n",
       "1       10325          Vecchio Birraio   1235915097             3.0   \n",
       "2       10325          Vecchio Birraio   1235916604             3.0   \n",
       "3       10325          Vecchio Birraio   1234725145             3.0   \n",
       "4        1075  Caldera Brewing Company   1293735206             4.0   \n",
       "\n",
       "   review_aroma  review_appearance review_profilename  \\\n",
       "0           2.0                2.5            stcules   \n",
       "1           2.5                3.0            stcules   \n",
       "2           2.5                3.0            stcules   \n",
       "3           3.0                3.5            stcules   \n",
       "4           4.5                4.0     johnmichaelsen   \n",
       "\n",
       "                       beer_style  review_palate  review_taste  \\\n",
       "0                      Hefeweizen            1.5           1.5   \n",
       "1              English Strong Ale            3.0           3.0   \n",
       "2          Foreign / Export Stout            3.0           3.0   \n",
       "3                 German Pilsener            2.5           3.0   \n",
       "4  American Double / Imperial IPA            4.0           4.5   \n",
       "\n",
       "                beer_name  beer_abv  beer_beerid  \n",
       "0            Sausa Weizen       5.0        47986  \n",
       "1                Red Moon       6.2        48213  \n",
       "2  Black Horse Black Beer       6.5        48215  \n",
       "3              Sausa Pils       5.0        47969  \n",
       "4           Cauldron DIPA       7.7        64883  "
      ]
     },
     "execution_count": 366,
     "metadata": {},
     "output_type": "execute_result"
    }
   ],
   "source": [
    "# seeing the top elemets in the dataset\n",
    "\n",
    "beer_data.head()"
   ]
  },
  {
   "cell_type": "markdown",
   "metadata": {},
   "source": [
    "## 2. Exploratory Data Analysis"
   ]
  },
  {
   "cell_type": "code",
   "execution_count": 367,
   "metadata": {},
   "outputs": [
    {
     "name": "stdout",
     "output_type": "stream",
     "text": [
      "Number of rows =  1586614 \n",
      "Number of columns =  13\n"
     ]
    }
   ],
   "source": [
    "# Finding the shape of the data to get a feel of the number of rows and columns in it\n",
    "\n",
    "print('Number of rows = ', beer_data.shape[0] , '\\nNumber of columns = ', beer_data.shape[1])"
   ]
  },
  {
   "cell_type": "code",
   "execution_count": 368,
   "metadata": {},
   "outputs": [
    {
     "name": "stdout",
     "output_type": "stream",
     "text": [
      "['brewery_id', 'brewery_name', 'review_time', 'review_overall', 'review_aroma', 'review_appearance', 'review_profilename', 'beer_style', 'review_palate', 'review_taste', 'beer_name', 'beer_abv', 'beer_beerid']\n"
     ]
    }
   ],
   "source": [
    "# using columns to find the list of all the columns in the dataset\n",
    "\n",
    "print(beer_data.columns.tolist())"
   ]
  },
  {
   "cell_type": "code",
   "execution_count": 369,
   "metadata": {},
   "outputs": [
    {
     "name": "stdout",
     "output_type": "stream",
     "text": [
      "<class 'pandas.core.frame.DataFrame'>\n",
      "RangeIndex: 1586614 entries, 0 to 1586613\n",
      "Data columns (total 13 columns):\n",
      "brewery_id            1586614 non-null int64\n",
      "brewery_name          1586599 non-null object\n",
      "review_time           1586614 non-null int64\n",
      "review_overall        1586614 non-null float64\n",
      "review_aroma          1586614 non-null float64\n",
      "review_appearance     1586614 non-null float64\n",
      "review_profilename    1586266 non-null object\n",
      "beer_style            1586614 non-null object\n",
      "review_palate         1586614 non-null float64\n",
      "review_taste          1586614 non-null float64\n",
      "beer_name             1586614 non-null object\n",
      "beer_abv              1518829 non-null float64\n",
      "beer_beerid           1586614 non-null int64\n",
      "dtypes: float64(6), int64(3), object(4)\n",
      "memory usage: 157.4+ MB\n"
     ]
    }
   ],
   "source": [
    "# information on the datatype and the number of not null values in the dataset\n",
    "\n",
    "beer_data.info()"
   ]
  },
  {
   "cell_type": "markdown",
   "metadata": {},
   "source": [
    "- The dataset has both numerical(int64/float64) and categorical features as shown in the table above"
   ]
  },
  {
   "cell_type": "code",
   "execution_count": 370,
   "metadata": {},
   "outputs": [
    {
     "data": {
      "text/plain": [
       "brewery_id                0\n",
       "brewery_name             15\n",
       "review_time               0\n",
       "review_overall            0\n",
       "review_aroma              0\n",
       "review_appearance         0\n",
       "review_profilename      348\n",
       "beer_style                0\n",
       "review_palate             0\n",
       "review_taste              0\n",
       "beer_name                 0\n",
       "beer_abv              67785\n",
       "beer_beerid               0\n",
       "dtype: int64"
      ]
     },
     "execution_count": 370,
     "metadata": {},
     "output_type": "execute_result"
    }
   ],
   "source": [
    "# null values in each column\n",
    "\n",
    "beer_data.isnull().sum()"
   ]
  },
  {
   "cell_type": "markdown",
   "metadata": {},
   "source": [
    "- The dataset has a few null columns : review_profilename, beer_abv, brewery_name             \n",
    "- Beer_abv accounts for the maximum number of null values in the column"
   ]
  },
  {
   "cell_type": "code",
   "execution_count": 371,
   "metadata": {},
   "outputs": [
    {
     "name": "stdout",
     "output_type": "stream",
     "text": [
      "The trend were measured in the year :  [2009 2010 2012 2011 2002 2004 2003 2001 2008 2007 2006 2005 2000 1999\n",
      " 1998 1996] across various months [ 2  3 12  1 10  5 11  9  8  6  7  4] \n",
      "\n"
     ]
    }
   ],
   "source": [
    "# changing the review column to appropriate date time format\n",
    "\n",
    "beer_data['review_time'] = pd.to_datetime(beer_data['review_time'],unit='s')\n",
    "print('The trend were measured in the year : ',  beer_data['review_time'].dt.year.unique(), 'across various months',beer_data['review_time'].dt.month.unique(),'\\n')"
   ]
  },
  {
   "cell_type": "code",
   "execution_count": 372,
   "metadata": {},
   "outputs": [],
   "source": [
    "# Visualizing the data for review_overall average score across the years\n",
    "\n",
    "beer_data['review_time']  = beer_data['review_time'].dt.year"
   ]
  },
  {
   "cell_type": "code",
   "execution_count": 373,
   "metadata": {},
   "outputs": [
    {
     "name": "stdout",
     "output_type": "stream",
     "text": [
      "AxesSubplot(0.125,0.125;0.775x0.755)\n"
     ]
    },
    {
     "data": {
      "image/png": "[encoded data removed]",
      "text/plain": [
       "<Figure size 432x288 with 1 Axes>"
      ]
     },
     "metadata": {
      "needs_background": "light"
     },
     "output_type": "display_data"
    }
   ],
   "source": [
    "print(beer_data.groupby('review_time')['review_overall'].mean().plot(kind = 'line',title = 'Average overall rating across the years'))"
   ]
  },
  {
   "cell_type": "code",
   "execution_count": 374,
   "metadata": {},
   "outputs": [
    {
     "name": "stdout",
     "output_type": "stream",
     "text": [
      "The number of reviews for each year  AxesSubplot(0.125,0.125;0.775x0.755)\n"
     ]
    },
    {
     "data": {
      "image/png": "[encoded data removed]",
      "text/plain": [
       "<Figure size 432x288 with 1 Axes>"
      ]
     },
     "metadata": {
      "needs_background": "light"
     },
     "output_type": "display_data"
    }
   ],
   "source": [
    "print('The number of reviews for each year ', beer_data.groupby('review_time')['review_overall'].count().plot(kind = 'bar',title = 'Total number of reviews across the years'))"
   ]
  },
  {
   "cell_type": "markdown",
   "metadata": {},
   "source": [
    "As seen in the above 2 plots, we can deduce:\n",
    "\n",
    "- When the beer review dataset was taken initially in 1996, there were not a significant number of reviewers. But with time the number of reviewers have increased over the years.\n",
    "- As the number of reviewers increased there was a steep decrease in the average overall rating. This can be seen clearly with the data in 2002, 2003 and so on.\n",
    "- With time the average rating of a beer has increased by a very small amount ( from 2003 - 2010)\n"
   ]
  },
  {
   "cell_type": "code",
   "execution_count": 375,
   "metadata": {},
   "outputs": [
    {
     "name": "stdout",
     "output_type": "stream",
     "text": [
      "unique reviewers :  33388\n",
      "unique beers :  56857\n",
      "unique breweries :  5840\n",
      "unique beer styles :  104\n",
      "Users with most reviews :  ['northyorksammy', 'BuckeyeNation', 'mikesgroove', 'Thorpe429', 'womencantsail']\n"
     ]
    }
   ],
   "source": [
    "print('unique reviewers : '  , len(beer_data['review_profilename'].unique()) )\n",
    "print('unique beers : '  , len(beer_data['beer_name'].unique() ))\n",
    "print('unique breweries : ' , len(beer_data['brewery_id'].unique() ))\n",
    "print('unique beer styles : ', len(beer_data['beer_style'].unique()))\n",
    "print('Users with most reviews : ', beer_data[ 'review_profilename' ].value_counts().head().index.tolist())"
   ]
  },
  {
   "cell_type": "code",
   "execution_count": 376,
   "metadata": {},
   "outputs": [
    {
     "data": {
      "text/html": [
       "<div>\n",
       "<style scoped>\n",
       "    .dataframe tbody tr th:only-of-type {\n",
       "        vertical-align: middle;\n",
       "    }\n",
       "\n",
       "    .dataframe tbody tr th {\n",
       "        vertical-align: top;\n",
       "    }\n",
       "\n",
       "    .dataframe thead th {\n",
       "        text-align: right;\n",
       "    }\n",
       "</style>\n",
       "<table border=\"1\" class=\"dataframe\">\n",
       "  <thead>\n",
       "    <tr style=\"text-align: right;\">\n",
       "      <th></th>\n",
       "      <th>brewery_id</th>\n",
       "      <th>review_time</th>\n",
       "      <th>review_overall</th>\n",
       "      <th>review_aroma</th>\n",
       "      <th>review_appearance</th>\n",
       "      <th>review_palate</th>\n",
       "      <th>review_taste</th>\n",
       "      <th>beer_abv</th>\n",
       "      <th>beer_beerid</th>\n",
       "    </tr>\n",
       "  </thead>\n",
       "  <tbody>\n",
       "    <tr>\n",
       "      <th>count</th>\n",
       "      <td>1.586614e+06</td>\n",
       "      <td>1.586614e+06</td>\n",
       "      <td>1.586614e+06</td>\n",
       "      <td>1.586614e+06</td>\n",
       "      <td>1.586614e+06</td>\n",
       "      <td>1.586614e+06</td>\n",
       "      <td>1.586614e+06</td>\n",
       "      <td>1.518829e+06</td>\n",
       "      <td>1.586614e+06</td>\n",
       "    </tr>\n",
       "    <tr>\n",
       "      <th>mean</th>\n",
       "      <td>3.130099e+03</td>\n",
       "      <td>2.008282e+03</td>\n",
       "      <td>3.815581e+00</td>\n",
       "      <td>3.735636e+00</td>\n",
       "      <td>3.841642e+00</td>\n",
       "      <td>3.743701e+00</td>\n",
       "      <td>3.792860e+00</td>\n",
       "      <td>7.042387e+00</td>\n",
       "      <td>2.171279e+04</td>\n",
       "    </tr>\n",
       "    <tr>\n",
       "      <th>std</th>\n",
       "      <td>5.578104e+03</td>\n",
       "      <td>2.426175e+00</td>\n",
       "      <td>7.206219e-01</td>\n",
       "      <td>6.976167e-01</td>\n",
       "      <td>6.160928e-01</td>\n",
       "      <td>6.822184e-01</td>\n",
       "      <td>7.319696e-01</td>\n",
       "      <td>2.322526e+00</td>\n",
       "      <td>2.181834e+04</td>\n",
       "    </tr>\n",
       "    <tr>\n",
       "      <th>min</th>\n",
       "      <td>1.000000e+00</td>\n",
       "      <td>1.996000e+03</td>\n",
       "      <td>0.000000e+00</td>\n",
       "      <td>1.000000e+00</td>\n",
       "      <td>0.000000e+00</td>\n",
       "      <td>1.000000e+00</td>\n",
       "      <td>1.000000e+00</td>\n",
       "      <td>1.000000e-02</td>\n",
       "      <td>3.000000e+00</td>\n",
       "    </tr>\n",
       "    <tr>\n",
       "      <th>25%</th>\n",
       "      <td>1.430000e+02</td>\n",
       "      <td>2.007000e+03</td>\n",
       "      <td>3.500000e+00</td>\n",
       "      <td>3.500000e+00</td>\n",
       "      <td>3.500000e+00</td>\n",
       "      <td>3.500000e+00</td>\n",
       "      <td>3.500000e+00</td>\n",
       "      <td>5.200000e+00</td>\n",
       "      <td>1.717000e+03</td>\n",
       "    </tr>\n",
       "    <tr>\n",
       "      <th>50%</th>\n",
       "      <td>4.290000e+02</td>\n",
       "      <td>2.009000e+03</td>\n",
       "      <td>4.000000e+00</td>\n",
       "      <td>4.000000e+00</td>\n",
       "      <td>4.000000e+00</td>\n",
       "      <td>4.000000e+00</td>\n",
       "      <td>4.000000e+00</td>\n",
       "      <td>6.500000e+00</td>\n",
       "      <td>1.390600e+04</td>\n",
       "    </tr>\n",
       "    <tr>\n",
       "      <th>75%</th>\n",
       "      <td>2.372000e+03</td>\n",
       "      <td>2.010000e+03</td>\n",
       "      <td>4.500000e+00</td>\n",
       "      <td>4.000000e+00</td>\n",
       "      <td>4.000000e+00</td>\n",
       "      <td>4.000000e+00</td>\n",
       "      <td>4.500000e+00</td>\n",
       "      <td>8.500000e+00</td>\n",
       "      <td>3.944100e+04</td>\n",
       "    </tr>\n",
       "    <tr>\n",
       "      <th>max</th>\n",
       "      <td>2.800300e+04</td>\n",
       "      <td>2.012000e+03</td>\n",
       "      <td>5.000000e+00</td>\n",
       "      <td>5.000000e+00</td>\n",
       "      <td>5.000000e+00</td>\n",
       "      <td>5.000000e+00</td>\n",
       "      <td>5.000000e+00</td>\n",
       "      <td>5.770000e+01</td>\n",
       "      <td>7.731700e+04</td>\n",
       "    </tr>\n",
       "  </tbody>\n",
       "</table>\n",
       "</div>"
      ],
      "text/plain": [
       "         brewery_id   review_time  review_overall  review_aroma  \\\n",
       "count  1.586614e+06  1.586614e+06    1.586614e+06  1.586614e+06   \n",
       "mean   3.130099e+03  2.008282e+03    3.815581e+00  3.735636e+00   \n",
       "std    5.578104e+03  2.426175e+00    7.206219e-01  6.976167e-01   \n",
       "min    1.000000e+00  1.996000e+03    0.000000e+00  1.000000e+00   \n",
       "25%    1.430000e+02  2.007000e+03    3.500000e+00  3.500000e+00   \n",
       "50%    4.290000e+02  2.009000e+03    4.000000e+00  4.000000e+00   \n",
       "75%    2.372000e+03  2.010000e+03    4.500000e+00  4.000000e+00   \n",
       "max    2.800300e+04  2.012000e+03    5.000000e+00  5.000000e+00   \n",
       "\n",
       "       review_appearance  review_palate  review_taste      beer_abv  \\\n",
       "count       1.586614e+06   1.586614e+06  1.586614e+06  1.518829e+06   \n",
       "mean        3.841642e+00   3.743701e+00  3.792860e+00  7.042387e+00   \n",
       "std         6.160928e-01   6.822184e-01  7.319696e-01  2.322526e+00   \n",
       "min         0.000000e+00   1.000000e+00  1.000000e+00  1.000000e-02   \n",
       "25%         3.500000e+00   3.500000e+00  3.500000e+00  5.200000e+00   \n",
       "50%         4.000000e+00   4.000000e+00  4.000000e+00  6.500000e+00   \n",
       "75%         4.000000e+00   4.000000e+00  4.500000e+00  8.500000e+00   \n",
       "max         5.000000e+00   5.000000e+00  5.000000e+00  5.770000e+01   \n",
       "\n",
       "        beer_beerid  \n",
       "count  1.586614e+06  \n",
       "mean   2.171279e+04  \n",
       "std    2.181834e+04  \n",
       "min    3.000000e+00  \n",
       "25%    1.717000e+03  \n",
       "50%    1.390600e+04  \n",
       "75%    3.944100e+04  \n",
       "max    7.731700e+04  "
      ]
     },
     "execution_count": 376,
     "metadata": {},
     "output_type": "execute_result"
    }
   ],
   "source": [
    "# using describe and box plot to check for outliers\n",
    "\n",
    "beer_data.describe()"
   ]
  },
  {
   "cell_type": "code",
   "execution_count": 377,
   "metadata": {},
   "outputs": [
    {
     "data": {
      "image/png": "[encoded data removed]",
      "text/plain": [
       "<Figure size 432x288 with 1 Axes>"
      ]
     },
     "metadata": {
      "needs_background": "light"
     },
     "output_type": "display_data"
    }
   ],
   "source": [
    "box_plot = sns.boxplot(data = beer_data,order = ['review_overall','review_aroma','review_appearance','review_palate','review_taste'])"
   ]
  },
  {
   "cell_type": "markdown",
   "metadata": {},
   "source": [
    "- As the box plot above shows that most of the features have a median value of 4 with some outliers above and below"
   ]
  },
  {
   "cell_type": "code",
   "execution_count": 378,
   "metadata": {},
   "outputs": [
    {
     "data": {
      "image/png": "[encoded data removed]",
      "text/plain": [
       "<Figure size 1440x432 with 2 Axes>"
      ]
     },
     "metadata": {
      "needs_background": "light"
     },
     "output_type": "display_data"
    }
   ],
   "source": [
    "# finding the correlation between the fetures\n",
    "\n",
    "corr = beer_data.corr()\n",
    "fig, ax = plt.subplots(figsize=(20,6)) \n",
    "sns.heatmap(corr, annot=True, xticklabels=corr.columns.values, yticklabels=corr.columns.values, linewidths=.5, ax = ax)\n",
    "plt.show()"
   ]
  },
  {
   "cell_type": "markdown",
   "metadata": {},
   "source": [
    "- As shown in the figure above some of the values ar highly correlated positievely, which means if the value of one the feature increase the other also moves in the same direction:\n",
    "    - review_taste and review_overall\n",
    "    - review palate and review_overall"
   ]
  },
  {
   "cell_type": "code",
   "execution_count": 379,
   "metadata": {},
   "outputs": [
    {
     "data": {
      "image/png": "[encoded data removed]",
      "text/plain": [
       "<Figure size 864x864 with 9 Axes>"
      ]
     },
     "metadata": {
      "needs_background": "light"
     },
     "output_type": "display_data"
    }
   ],
   "source": [
    "# Analyzing the numerical features\n",
    "\n",
    "beer_data.hist(figsize=(12,12))\n",
    "plt.show()"
   ]
  },
  {
   "cell_type": "markdown",
   "metadata": {},
   "source": [
    "- As seen in the above plots, we see that some of the features follow a distribution close to normal distribution. eg. review_palate, review_taste\n",
    "- Some of the features are highly negetievely skewed.eg. review_overall, review_aroma,review_appearance"
   ]
  },
  {
   "cell_type": "markdown",
   "metadata": {},
   "source": [
    "## 3. Preprocessing and Feature Engineering"
   ]
  },
  {
   "cell_type": "code",
   "execution_count": 380,
   "metadata": {},
   "outputs": [],
   "source": [
    "clean_beer_data = beer_data.copy()"
   ]
  },
  {
   "cell_type": "markdown",
   "metadata": {},
   "source": [
    "#### Handle missing values - handling the number of null values for 'beer_abv'"
   ]
  },
  {
   "cell_type": "code",
   "execution_count": 381,
   "metadata": {},
   "outputs": [
    {
     "data": {
      "text/plain": [
       "brewery_id                0\n",
       "brewery_name             15\n",
       "review_time               0\n",
       "review_overall            0\n",
       "review_aroma              0\n",
       "review_appearance         0\n",
       "review_profilename      348\n",
       "beer_style                0\n",
       "review_palate             0\n",
       "review_taste              0\n",
       "beer_name                 0\n",
       "beer_abv              67785\n",
       "beer_beerid               0\n",
       "dtype: int64"
      ]
     },
     "execution_count": 381,
     "metadata": {},
     "output_type": "execute_result"
    }
   ],
   "source": [
    "clean_beer_data.isnull().sum()"
   ]
  },
  {
   "cell_type": "code",
   "execution_count": 382,
   "metadata": {},
   "outputs": [],
   "source": [
    "# I am using a method to replace the beer_abv value with the median value of same beer 'beer_abv' present in other rows\n",
    "\n",
    "clean_beer_data['beer_abv'] = clean_beer_data.groupby(['beer_name'])['beer_abv'].transform(lambda x: x.fillna(x.median()))"
   ]
  },
  {
   "cell_type": "code",
   "execution_count": 383,
   "metadata": {},
   "outputs": [
    {
     "name": "stdout",
     "output_type": "stream",
     "text": [
      "Now the missing number of values in each column : \n",
      " brewery_id                0\n",
      "brewery_name             15\n",
      "review_time               0\n",
      "review_overall            0\n",
      "review_aroma              0\n",
      "review_appearance         0\n",
      "review_profilename      348\n",
      "beer_style                0\n",
      "review_palate             0\n",
      "review_taste              0\n",
      "beer_name                 0\n",
      "beer_abv              55774\n",
      "beer_beerid               0\n",
      "dtype: int64\n",
      "Now the missing number( as percentage) in each column : \n",
      " brewery_id            0.000000\n",
      "brewery_name          0.000945\n",
      "review_time           0.000000\n",
      "review_overall        0.000000\n",
      "review_aroma          0.000000\n",
      "review_appearance     0.000000\n",
      "review_profilename    0.021934\n",
      "beer_style            0.000000\n",
      "review_palate         0.000000\n",
      "review_taste          0.000000\n",
      "beer_name             0.000000\n",
      "beer_abv              3.515285\n",
      "beer_beerid           0.000000\n",
      "dtype: float64\n"
     ]
    }
   ],
   "source": [
    "# now checking the number of missing values in 'beer_abv'\n",
    "\n",
    "print('Now the missing number of values in each column : \\n', clean_beer_data.isnull().sum())\n",
    "\n",
    "# I am finding the percenatge of missing values:\n",
    "print('Now the missing number( as percentage) in each column : \\n', clean_beer_data.isnull().sum() * 100 / len(clean_beer_data))\n",
    "\n",
    "# since the % of value missing are less than 3.5%, then I will remove the rows with the null values as the size of the dataset is quite large\n",
    "clean_beer_data.dropna(inplace=True)\n"
   ]
  },
  {
   "cell_type": "markdown",
   "metadata": {},
   "source": [
    "#### Removing duplicate values"
   ]
  },
  {
   "cell_type": "code",
   "execution_count": 384,
   "metadata": {},
   "outputs": [],
   "source": [
    "# checking for the dupliacte values and removing them\n",
    "\n",
    "clean_beer_data.drop_duplicates(inplace = True)"
   ]
  },
  {
   "cell_type": "code",
   "execution_count": 385,
   "metadata": {},
   "outputs": [],
   "source": [
    "beer_data_friend = clean_beer_data.copy()"
   ]
  },
  {
   "cell_type": "markdown",
   "metadata": {},
   "source": [
    "##### Removing unnecessary columns"
   ]
  },
  {
   "cell_type": "code",
   "execution_count": 386,
   "metadata": {},
   "outputs": [],
   "source": [
    "# removing columns : 'brewery_id','brewery_name','review_profilename','beer_name','beer_beerid','review_time'\n",
    "# we will be removing these columns as these column donot account to the overall quality of the beer as these are generic fields\n",
    "# we can see that from the correlation plot, where they account very low to the overall_review\n",
    "\n",
    "clean_beer_data.drop(columns=['brewery_id','brewery_name','review_profilename','beer_name','beer_beerid','review_time'], inplace = True)"
   ]
  },
  {
   "cell_type": "code",
   "execution_count": 387,
   "metadata": {},
   "outputs": [
    {
     "name": "stdout",
     "output_type": "stream",
     "text": [
      " The remaining columns :  Index(['review_overall', 'review_aroma', 'review_appearance', 'beer_style',\n",
      "       'review_palate', 'review_taste', 'beer_abv'],\n",
      "      dtype='object')\n"
     ]
    }
   ],
   "source": [
    "print(' The remaining columns : ' , clean_beer_data.columns)"
   ]
  },
  {
   "cell_type": "markdown",
   "metadata": {},
   "source": [
    "#### One hot encoding the categorical features"
   ]
  },
  {
   "cell_type": "code",
   "execution_count": 388,
   "metadata": {},
   "outputs": [],
   "source": [
    "#  creating a new column to showcase the multiple beer style associated with a beer\n",
    "\n",
    "col_add = clean_beer_data[\"beer_style\"].str.split(\"/\", n = 1, expand = True)"
   ]
  },
  {
   "cell_type": "code",
   "execution_count": 389,
   "metadata": {},
   "outputs": [],
   "source": [
    "clean_beer_data['beer_style_1'] = col_add[0]"
   ]
  },
  {
   "cell_type": "code",
   "execution_count": 390,
   "metadata": {},
   "outputs": [],
   "source": [
    "clean_beer_data.drop(columns=['beer_style'], inplace = True)"
   ]
  },
  {
   "cell_type": "code",
   "execution_count": 391,
   "metadata": {},
   "outputs": [],
   "source": [
    "# one hot endoing the feature : 'beer_style_1'\n",
    "\n",
    "one_hot_beer_style_1= pd.get_dummies(clean_beer_data['beer_style_1'])\n",
    "clean_beer_data = clean_beer_data.drop(['beer_style_1'],axis = 1)\n",
    "clean_beer_data = clean_beer_data.join(one_hot_beer_style_1)\n"
   ]
  },
  {
   "cell_type": "code",
   "execution_count": 392,
   "metadata": {},
   "outputs": [
    {
     "data": {
      "text/html": [
       "<div>\n",
       "<style scoped>\n",
       "    .dataframe tbody tr th:only-of-type {\n",
       "        vertical-align: middle;\n",
       "    }\n",
       "\n",
       "    .dataframe tbody tr th {\n",
       "        vertical-align: top;\n",
       "    }\n",
       "\n",
       "    .dataframe thead th {\n",
       "        text-align: right;\n",
       "    }\n",
       "</style>\n",
       "<table border=\"1\" class=\"dataframe\">\n",
       "  <thead>\n",
       "    <tr style=\"text-align: right;\">\n",
       "      <th></th>\n",
       "      <th>review_overall</th>\n",
       "      <th>review_aroma</th>\n",
       "      <th>review_appearance</th>\n",
       "      <th>review_palate</th>\n",
       "      <th>review_taste</th>\n",
       "      <th>beer_abv</th>\n",
       "      <th>Altbier</th>\n",
       "      <th>American Adjunct Lager</th>\n",
       "      <th>American Amber</th>\n",
       "      <th>American Barleywine</th>\n",
       "      <th>...</th>\n",
       "      <th>Scotch Ale</th>\n",
       "      <th>Scottish Ale</th>\n",
       "      <th>Scottish Gruit</th>\n",
       "      <th>Smoked Beer</th>\n",
       "      <th>Tripel</th>\n",
       "      <th>Vienna Lager</th>\n",
       "      <th>Weizenbock</th>\n",
       "      <th>Wheatwine</th>\n",
       "      <th>Winter Warmer</th>\n",
       "      <th>Witbier</th>\n",
       "    </tr>\n",
       "  </thead>\n",
       "  <tbody>\n",
       "    <tr>\n",
       "      <th>0</th>\n",
       "      <td>1.5</td>\n",
       "      <td>2.0</td>\n",
       "      <td>2.5</td>\n",
       "      <td>1.5</td>\n",
       "      <td>1.5</td>\n",
       "      <td>5.0</td>\n",
       "      <td>0</td>\n",
       "      <td>0</td>\n",
       "      <td>0</td>\n",
       "      <td>0</td>\n",
       "      <td>...</td>\n",
       "      <td>0</td>\n",
       "      <td>0</td>\n",
       "      <td>0</td>\n",
       "      <td>0</td>\n",
       "      <td>0</td>\n",
       "      <td>0</td>\n",
       "      <td>0</td>\n",
       "      <td>0</td>\n",
       "      <td>0</td>\n",
       "      <td>0</td>\n",
       "    </tr>\n",
       "    <tr>\n",
       "      <th>1</th>\n",
       "      <td>3.0</td>\n",
       "      <td>2.5</td>\n",
       "      <td>3.0</td>\n",
       "      <td>3.0</td>\n",
       "      <td>3.0</td>\n",
       "      <td>6.2</td>\n",
       "      <td>0</td>\n",
       "      <td>0</td>\n",
       "      <td>0</td>\n",
       "      <td>0</td>\n",
       "      <td>...</td>\n",
       "      <td>0</td>\n",
       "      <td>0</td>\n",
       "      <td>0</td>\n",
       "      <td>0</td>\n",
       "      <td>0</td>\n",
       "      <td>0</td>\n",
       "      <td>0</td>\n",
       "      <td>0</td>\n",
       "      <td>0</td>\n",
       "      <td>0</td>\n",
       "    </tr>\n",
       "  </tbody>\n",
       "</table>\n",
       "<p>2 rows × 107 columns</p>\n",
       "</div>"
      ],
      "text/plain": [
       "   review_overall  review_aroma  review_appearance  review_palate  \\\n",
       "0             1.5           2.0                2.5            1.5   \n",
       "1             3.0           2.5                3.0            3.0   \n",
       "\n",
       "   review_taste  beer_abv  Altbier  American Adjunct Lager  American Amber   \\\n",
       "0           1.5       5.0        0                       0                0   \n",
       "1           3.0       6.2        0                       0                0   \n",
       "\n",
       "   American Barleywine   ...     Scotch Ale   Scottish Ale  Scottish Gruit   \\\n",
       "0                    0   ...               0             0                0   \n",
       "1                    0   ...               0             0                0   \n",
       "\n",
       "   Smoked Beer  Tripel  Vienna Lager  Weizenbock  Wheatwine  Winter Warmer  \\\n",
       "0            0       0             0           0          0              0   \n",
       "1            0       0             0           0          0              0   \n",
       "\n",
       "   Witbier  \n",
       "0        0  \n",
       "1        0  \n",
       "\n",
       "[2 rows x 107 columns]"
      ]
     },
     "execution_count": 392,
     "metadata": {},
     "output_type": "execute_result"
    }
   ],
   "source": [
    "clean_beer_data.head(2)"
   ]
  },
  {
   "cell_type": "markdown",
   "metadata": {},
   "source": [
    "####  Feature Tools for feature engineering"
   ]
  },
  {
   "cell_type": "code",
   "execution_count": 335,
   "metadata": {},
   "outputs": [
    {
     "name": "stdout",
     "output_type": "stream",
     "text": [
      "2019-09-20 05:01:37,656 featuretools.entityset - WARNING    index index not found in dataframe, creating new integer column\n"
     ]
    },
    {
     "data": {
      "text/plain": [
       "Entityset: review_data\n",
       "  Entities:\n",
       "    review_data [Rows: 1586614, Columns: 7]\n",
       "    beer_class [Rows: 56857, Columns: 2]\n",
       "  Relationships:\n",
       "    review_data.beer_name -> beer_class.beer_name"
      ]
     },
     "execution_count": 335,
     "metadata": {},
     "output_type": "execute_result"
    }
   ],
   "source": [
    "beer_data_feature_tools = beer_data.copy()\n",
    "beer_data_feature_tools.drop(columns = ['brewery_id','brewery_name','review_time','beer_style','review_profilename'], inplace =True)\n",
    "\n",
    "# creating an entity set 'es'\n",
    "\n",
    "decisions=beer_data_feature_tools.pop('review_overall')\n",
    "es = ft.EntitySet(id = 'review_data')\n",
    "\n",
    "# adding a dataframe\n",
    "\n",
    "es.entity_from_dataframe(entity_id = 'review_data', dataframe = beer_data_feature_tools, index = 'index')\n",
    "\n",
    "es.normalize_entity(base_entity_id='review_data', new_entity_id='beer_class', index = 'beer_name',\n",
    "additional_variables = ['beer_beerid'])"
   ]
  },
  {
   "cell_type": "code",
   "execution_count": 336,
   "metadata": {},
   "outputs": [
    {
     "name": "stdout",
     "output_type": "stream",
     "text": [
      "Built 38 features\n",
      "EntitySet scattered to workers in 5.730 seconds\n",
      "Elapsed: 00:52 | Remaining: 00:00 | Progress: 100%|██████████| Calculated: 11/11 chunks\n"
     ]
    },
    {
     "name": "stderr",
     "output_type": "stream",
     "text": [
      "tornado.application - ERROR - Exception in Future <Future cancelled> after timeout\n",
      "Traceback (most recent call last):\n",
      "  File \"C:\\ProgramData\\Anaconda3\\lib\\site-packages\\tornado\\gen.py\", line 970, in error_callback\n",
      "    future.result()\n",
      "concurrent.futures._base.CancelledError\n"
     ]
    }
   ],
   "source": [
    "feature_matrix, feature_names = ft.dfs(entityset=es,target_entity = 'review_data',max_depth = 2,verbose = 1,n_jobs = 3)"
   ]
  },
  {
   "cell_type": "code",
   "execution_count": 337,
   "metadata": {},
   "outputs": [
    {
     "name": "stdout",
     "output_type": "stream",
     "text": [
      "<class 'pandas.core.frame.DataFrame'>\n",
      "Int64Index: 1586614 entries, 0 to 1586613\n",
      "Data columns (total 38 columns):\n",
      "review_aroma                                      1586614 non-null float64\n",
      "review_appearance                                 1586614 non-null float64\n",
      "review_palate                                     1586614 non-null float64\n",
      "review_taste                                      1586614 non-null float64\n",
      "beer_name                                         1586614 non-null object\n",
      "beer_abv                                          1518829 non-null float64\n",
      "beer_class.beer_beerid                            1586614 non-null int64\n",
      "beer_class.SUM(review_data.review_aroma)          1586614 non-null float64\n",
      "beer_class.SUM(review_data.review_appearance)     1586614 non-null float64\n",
      "beer_class.SUM(review_data.review_palate)         1586614 non-null float64\n",
      "beer_class.SUM(review_data.review_taste)          1586614 non-null float64\n",
      "beer_class.SUM(review_data.beer_abv)              1586614 non-null float64\n",
      "beer_class.STD(review_data.review_aroma)          1567706 non-null float64\n",
      "beer_class.STD(review_data.review_appearance)     1567706 non-null float64\n",
      "beer_class.STD(review_data.review_palate)         1567706 non-null float64\n",
      "beer_class.STD(review_data.review_taste)          1567706 non-null float64\n",
      "beer_class.STD(review_data.beer_abv)              1516544 non-null float64\n",
      "beer_class.MAX(review_data.review_aroma)          1586614 non-null float64\n",
      "beer_class.MAX(review_data.review_appearance)     1586614 non-null float64\n",
      "beer_class.MAX(review_data.review_palate)         1586614 non-null float64\n",
      "beer_class.MAX(review_data.review_taste)          1586614 non-null float64\n",
      "beer_class.MAX(review_data.beer_abv)              1530840 non-null float64\n",
      "beer_class.SKEW(review_data.review_aroma)         1550638 non-null float64\n",
      "beer_class.SKEW(review_data.review_appearance)    1550638 non-null float64\n",
      "beer_class.SKEW(review_data.review_palate)        1550638 non-null float64\n",
      "beer_class.SKEW(review_data.review_taste)         1550638 non-null float64\n",
      "beer_class.SKEW(review_data.beer_abv)             1503347 non-null float64\n",
      "beer_class.MIN(review_data.review_aroma)          1586614 non-null float64\n",
      "beer_class.MIN(review_data.review_appearance)     1586614 non-null float64\n",
      "beer_class.MIN(review_data.review_palate)         1586614 non-null float64\n",
      "beer_class.MIN(review_data.review_taste)          1586614 non-null float64\n",
      "beer_class.MIN(review_data.beer_abv)              1530840 non-null float64\n",
      "beer_class.MEAN(review_data.review_aroma)         1586614 non-null float64\n",
      "beer_class.MEAN(review_data.review_appearance)    1586614 non-null float64\n",
      "beer_class.MEAN(review_data.review_palate)        1586614 non-null float64\n",
      "beer_class.MEAN(review_data.review_taste)         1586614 non-null float64\n",
      "beer_class.MEAN(review_data.beer_abv)             1530840 non-null float64\n",
      "beer_class.COUNT(review_data)                     1586614 non-null int64\n",
      "dtypes: float64(35), int64(2), object(1)\n",
      "memory usage: 472.1+ MB\n"
     ]
    }
   ],
   "source": [
    "feature_matrix.info()"
   ]
  },
  {
   "cell_type": "markdown",
   "metadata": {},
   "source": [
    "The above columns are produced by Feature Tools"
   ]
  },
  {
   "cell_type": "markdown",
   "metadata": {},
   "source": [
    "## 4. Wierdest beers?\n",
    "- As per the definition of wierd, it means something offbeat or bizarre. \n",
    "- So, in my assumption the wierdest beers could be the ones which have:\n",
    "\n",
    "\n",
    "         Higher ==> 'review_aroma','review_appearance','review_taste','review_palate' \n",
    "                                BUT\n",
    "                      Lower ==> 'review_overall'\n",
    "\n",
    "P.S. I am not so much into beer :P"
   ]
  },
  {
   "cell_type": "markdown",
   "metadata": {},
   "source": [
    "- To find the Lowest and highest values of the above mentioned features ==> I will use the approach of box plot to locate the median values and the below average values across all beers"
   ]
  },
  {
   "cell_type": "code",
   "execution_count": 31,
   "metadata": {},
   "outputs": [
    {
     "data": {
      "text/plain": [
       "Text(0.5, 1.0, 'Review across all beers')"
      ]
     },
     "execution_count": 31,
     "metadata": {},
     "output_type": "execute_result"
    },
    {
     "data": {
      "image/png": "[encoded data removed]",
      "text/plain": [
       "<Figure size 720x432 with 1 Axes>"
      ]
     },
     "metadata": {
      "needs_background": "light"
     },
     "output_type": "display_data"
    }
   ],
   "source": [
    "plt.figure(figsize = (10, 6))\n",
    "ax = sns.boxplot(data = beer_data,order = ['review_aroma','review_appearance','review_taste','review_palate','review_overall'])\n",
    "plt.setp(ax.artists, alpha=1, linewidth=1, edgecolor=\"k\")\n",
    "plt.title('Review across all beers')"
   ]
  },
  {
   "cell_type": "code",
   "execution_count": 498,
   "metadata": {},
   "outputs": [],
   "source": [
    "#  have used the above box plot to decide the values of the features on which I will apply the filter to get the weird beer\n",
    "\n",
    "beer_data_wierd = beer_data[(beer_data['review_taste'] >= 4) & (beer_data['review_palate'] >= 4) & (beer_data['review_appearance'] >= 4) & (beer_data['review_aroma'] >= 4) & (beer_data['review_overall'] <  3)]['beer_name'].value_counts()"
   ]
  },
  {
   "cell_type": "code",
   "execution_count": 499,
   "metadata": {},
   "outputs": [],
   "source": [
    "beer_data_wierd_top_5 = beer_data_wierd[:5]"
   ]
  },
  {
   "cell_type": "code",
   "execution_count": 502,
   "metadata": {},
   "outputs": [
    {
     "data": {
      "text/plain": [
       "Index(['120 Minute IPA', 'World Wide Stout',\n",
       "       'Creme Brulee (Imperial Milk Stout)', 'Bourbon County Brand Stout',\n",
       "       'Samuel Adams Triple Bock'],\n",
       "      dtype='object')"
      ]
     },
     "execution_count": 502,
     "metadata": {},
     "output_type": "execute_result"
    }
   ],
   "source": [
    "beer_data_wierd_top_5.index"
   ]
  },
  {
   "cell_type": "markdown",
   "metadata": {},
   "source": [
    "## 5. Recommending beers to a friend"
   ]
  },
  {
   "cell_type": "markdown",
   "metadata": {},
   "source": [
    "- Recommending to a friend !! 'Thats Tricky'\n",
    "- In my approach, I am creating a new column 'review_avg' using the average of 'review_overall','review_appearance'+ 'review_aroma', 'review_palate', 'review_taste'. I am doing this to give every bear a cumulative mean score which can be used later\n",
    "- Then initially I am removing the beers which have less 2 reviews or lower so that I have have beers with more reviews and reliability.\n",
    "- Then using a box plot to see the distribution of 2 things : one is to see the total number of reviews for each beer and second is to check the meadian value of reviews for each beer. I am doing this so that I put a condition to take out beers with number of reviews more than the median or which are falling in the quartile Q3\n",
    "- Then I will sort the list in descending oders with beers with the highest median rating value on top and recommend the top 5 beers to my friend"
   ]
  },
  {
   "cell_type": "code",
   "execution_count": 503,
   "metadata": {
    "scrolled": true
   },
   "outputs": [
    {
     "data": {
      "text/plain": [
       "10291"
      ]
     },
     "execution_count": 503,
     "metadata": {},
     "output_type": "execute_result"
    }
   ],
   "source": [
    "group_less_review = beer_data_friend.groupby('review_profilename')\n",
    "len(group_less_review.filter(lambda x: x['beer_beerid'].count() <2 ))"
   ]
  },
  {
   "cell_type": "markdown",
   "metadata": {},
   "source": [
    "There are a lot of people who have written 1 reviews, so I was thinking of removing the reviews.\n",
    "But a better option could be to remove the beer which have 1 reviews as more the number of reviews, the better the chances \n",
    "of beer being good \n"
   ]
  },
  {
   "cell_type": "code",
   "execution_count": 504,
   "metadata": {},
   "outputs": [],
   "source": [
    "# no lets take an average of the ratings of the values in different columns to get a cumulative score.\n",
    "# I have taken this approach to have a single column giving each beer a total score out of 5\n",
    "\n",
    "beer_data_friend['review_avg'] = (beer_data_friend['review_overall'] + beer_data_friend['review_appearance'] + beer_data_friend['review_aroma'] + beer_data_friend['review_palate'] + beer_data_friend['review_taste'])/5"
   ]
  },
  {
   "cell_type": "code",
   "execution_count": 505,
   "metadata": {},
   "outputs": [
    {
     "data": {
      "text/html": [
       "<div>\n",
       "<style scoped>\n",
       "    .dataframe tbody tr th:only-of-type {\n",
       "        vertical-align: middle;\n",
       "    }\n",
       "\n",
       "    .dataframe tbody tr th {\n",
       "        vertical-align: top;\n",
       "    }\n",
       "\n",
       "    .dataframe thead th {\n",
       "        text-align: right;\n",
       "    }\n",
       "</style>\n",
       "<table border=\"1\" class=\"dataframe\">\n",
       "  <thead>\n",
       "    <tr style=\"text-align: right;\">\n",
       "      <th></th>\n",
       "      <th>brewery_id</th>\n",
       "      <th>brewery_name</th>\n",
       "      <th>review_time</th>\n",
       "      <th>review_overall</th>\n",
       "      <th>review_aroma</th>\n",
       "      <th>review_appearance</th>\n",
       "      <th>review_profilename</th>\n",
       "      <th>beer_style</th>\n",
       "      <th>review_palate</th>\n",
       "      <th>review_taste</th>\n",
       "      <th>beer_name</th>\n",
       "      <th>beer_abv</th>\n",
       "      <th>beer_beerid</th>\n",
       "      <th>review_avg</th>\n",
       "    </tr>\n",
       "  </thead>\n",
       "  <tbody>\n",
       "    <tr>\n",
       "      <th>0</th>\n",
       "      <td>10325</td>\n",
       "      <td>Vecchio Birraio</td>\n",
       "      <td>2009</td>\n",
       "      <td>1.5</td>\n",
       "      <td>2.0</td>\n",
       "      <td>2.5</td>\n",
       "      <td>stcules</td>\n",
       "      <td>Hefeweizen</td>\n",
       "      <td>1.5</td>\n",
       "      <td>1.5</td>\n",
       "      <td>Sausa Weizen</td>\n",
       "      <td>5.0</td>\n",
       "      <td>47986</td>\n",
       "      <td>1.8</td>\n",
       "    </tr>\n",
       "    <tr>\n",
       "      <th>1</th>\n",
       "      <td>10325</td>\n",
       "      <td>Vecchio Birraio</td>\n",
       "      <td>2009</td>\n",
       "      <td>3.0</td>\n",
       "      <td>2.5</td>\n",
       "      <td>3.0</td>\n",
       "      <td>stcules</td>\n",
       "      <td>English Strong Ale</td>\n",
       "      <td>3.0</td>\n",
       "      <td>3.0</td>\n",
       "      <td>Red Moon</td>\n",
       "      <td>6.2</td>\n",
       "      <td>48213</td>\n",
       "      <td>2.9</td>\n",
       "    </tr>\n",
       "  </tbody>\n",
       "</table>\n",
       "</div>"
      ],
      "text/plain": [
       "   brewery_id     brewery_name  review_time  review_overall  review_aroma  \\\n",
       "0       10325  Vecchio Birraio         2009             1.5           2.0   \n",
       "1       10325  Vecchio Birraio         2009             3.0           2.5   \n",
       "\n",
       "   review_appearance review_profilename          beer_style  review_palate  \\\n",
       "0                2.5            stcules          Hefeweizen            1.5   \n",
       "1                3.0            stcules  English Strong Ale            3.0   \n",
       "\n",
       "   review_taste     beer_name  beer_abv  beer_beerid  review_avg  \n",
       "0           1.5  Sausa Weizen       5.0        47986         1.8  \n",
       "1           3.0      Red Moon       6.2        48213         2.9  "
      ]
     },
     "execution_count": 505,
     "metadata": {},
     "output_type": "execute_result"
    }
   ],
   "source": [
    "beer_data_friend.head(2)"
   ]
  },
  {
   "cell_type": "code",
   "execution_count": 506,
   "metadata": {},
   "outputs": [
    {
     "data": {
      "text/html": [
       "<div>\n",
       "<style scoped>\n",
       "    .dataframe tbody tr th:only-of-type {\n",
       "        vertical-align: middle;\n",
       "    }\n",
       "\n",
       "    .dataframe tbody tr th {\n",
       "        vertical-align: top;\n",
       "    }\n",
       "\n",
       "    .dataframe thead th {\n",
       "        text-align: right;\n",
       "    }\n",
       "</style>\n",
       "<table border=\"1\" class=\"dataframe\">\n",
       "  <thead>\n",
       "    <tr style=\"text-align: right;\">\n",
       "      <th></th>\n",
       "      <th>beer_beerid</th>\n",
       "      <th>beer_name</th>\n",
       "      <th>review_avg</th>\n",
       "    </tr>\n",
       "  </thead>\n",
       "  <tbody>\n",
       "    <tr>\n",
       "      <th>0</th>\n",
       "      <td>47986</td>\n",
       "      <td>Sausa Weizen</td>\n",
       "      <td>1.8</td>\n",
       "    </tr>\n",
       "    <tr>\n",
       "      <th>1</th>\n",
       "      <td>48213</td>\n",
       "      <td>Red Moon</td>\n",
       "      <td>2.9</td>\n",
       "    </tr>\n",
       "    <tr>\n",
       "      <th>2</th>\n",
       "      <td>48215</td>\n",
       "      <td>Black Horse Black Beer</td>\n",
       "      <td>2.9</td>\n",
       "    </tr>\n",
       "    <tr>\n",
       "      <th>3</th>\n",
       "      <td>47969</td>\n",
       "      <td>Sausa Pils</td>\n",
       "      <td>3.0</td>\n",
       "    </tr>\n",
       "    <tr>\n",
       "      <th>4</th>\n",
       "      <td>64883</td>\n",
       "      <td>Cauldron DIPA</td>\n",
       "      <td>4.2</td>\n",
       "    </tr>\n",
       "  </tbody>\n",
       "</table>\n",
       "</div>"
      ],
      "text/plain": [
       "   beer_beerid               beer_name  review_avg\n",
       "0        47986            Sausa Weizen         1.8\n",
       "1        48213                Red Moon         2.9\n",
       "2        48215  Black Horse Black Beer         2.9\n",
       "3        47969              Sausa Pils         3.0\n",
       "4        64883           Cauldron DIPA         4.2"
      ]
     },
     "execution_count": 506,
     "metadata": {},
     "output_type": "execute_result"
    }
   ],
   "source": [
    "# removing the column and creating a new dataset with fewer column so to reduce reducndancy of data\n",
    "\n",
    "columns = ['beer_beerid', 'beer_name', 'review_avg']\n",
    "beer_data_recommend = beer_data_friend[columns]\n",
    "beer_data_recommend.head()"
   ]
  },
  {
   "cell_type": "code",
   "execution_count": 507,
   "metadata": {},
   "outputs": [
    {
     "data": {
      "text/html": [
       "<div>\n",
       "<style scoped>\n",
       "    .dataframe tbody tr th:only-of-type {\n",
       "        vertical-align: middle;\n",
       "    }\n",
       "\n",
       "    .dataframe tbody tr th {\n",
       "        vertical-align: top;\n",
       "    }\n",
       "\n",
       "    .dataframe thead tr th {\n",
       "        text-align: left;\n",
       "    }\n",
       "\n",
       "    .dataframe thead tr:last-of-type th {\n",
       "        text-align: right;\n",
       "    }\n",
       "</style>\n",
       "<table border=\"1\" class=\"dataframe\">\n",
       "  <thead>\n",
       "    <tr>\n",
       "      <th></th>\n",
       "      <th colspan=\"2\" halign=\"left\">review_avg</th>\n",
       "    </tr>\n",
       "    <tr>\n",
       "      <th></th>\n",
       "      <th>size</th>\n",
       "      <th>mean</th>\n",
       "    </tr>\n",
       "    <tr>\n",
       "      <th>beer_beerid</th>\n",
       "      <th></th>\n",
       "      <th></th>\n",
       "    </tr>\n",
       "  </thead>\n",
       "  <tbody>\n",
       "    <tr>\n",
       "      <th>5</th>\n",
       "      <td>423.0</td>\n",
       "      <td>3.381797</td>\n",
       "    </tr>\n",
       "    <tr>\n",
       "      <th>6</th>\n",
       "      <td>877.0</td>\n",
       "      <td>3.643558</td>\n",
       "    </tr>\n",
       "    <tr>\n",
       "      <th>7</th>\n",
       "      <td>659.0</td>\n",
       "      <td>3.181032</td>\n",
       "    </tr>\n",
       "    <tr>\n",
       "      <th>8</th>\n",
       "      <td>68.0</td>\n",
       "      <td>3.311765</td>\n",
       "    </tr>\n",
       "    <tr>\n",
       "      <th>9</th>\n",
       "      <td>116.0</td>\n",
       "      <td>3.090517</td>\n",
       "    </tr>\n",
       "  </tbody>\n",
       "</table>\n",
       "</div>"
      ],
      "text/plain": [
       "            review_avg          \n",
       "                  size      mean\n",
       "beer_beerid                     \n",
       "5                423.0  3.381797\n",
       "6                877.0  3.643558\n",
       "7                659.0  3.181032\n",
       "8                 68.0  3.311765\n",
       "9                116.0  3.090517"
      ]
     },
     "execution_count": 507,
     "metadata": {},
     "output_type": "execute_result"
    }
   ],
   "source": [
    "# here I wanted to remove all the beers which have less reviews:\n",
    "\n",
    "beer_reviews_all = beer_data_recommend.groupby('beer_beerid').agg({'review_avg': [np.size, np.mean]})\n",
    "beer_reviews_all.head()"
   ]
  },
  {
   "cell_type": "code",
   "execution_count": 508,
   "metadata": {},
   "outputs": [
    {
     "data": {
      "image/png": "[encoded data removed]",
      "text/plain": [
       "<Figure size 1800x720 with 1 Axes>"
      ]
     },
     "metadata": {
      "needs_background": "light"
     },
     "output_type": "display_data"
    }
   ],
   "source": [
    "plt.figure(figsize = (25,10))\n",
    "ax = sns.boxplot(data = beer_reviews_all, orient = 'h')"
   ]
  },
  {
   "cell_type": "code",
   "execution_count": 509,
   "metadata": {},
   "outputs": [],
   "source": [
    "# now taking only those beer values where number of reviews > 1000, to suggest my friend the best of the best\n",
    "\n",
    "more_reviews_beer = beer_data_recommend.beer_beerid.value_counts()\n",
    "more_reviews_beer_list  = more_reviews_beer[more_reviews_beer > 1000].index.tolist()"
   ]
  },
  {
   "cell_type": "code",
   "execution_count": 510,
   "metadata": {},
   "outputs": [],
   "source": [
    "beer_data_recommend = beer_data_recommend[beer_data_recommend['beer_beerid'].isin(more_reviews_beer_list)]"
   ]
  },
  {
   "cell_type": "code",
   "execution_count": 511,
   "metadata": {},
   "outputs": [],
   "source": [
    "friend_recoomendation = beer_data_recommend[['beer_name','review_avg']].pivot_table(index=\"beer_name\", aggfunc=(\"count\",'mean','median')).sort_values(('review_avg','median'),ascending=[False])"
   ]
  },
  {
   "cell_type": "code",
   "execution_count": 514,
   "metadata": {
    "scrolled": true
   },
   "outputs": [
    {
     "data": {
      "text/html": [
       "<div>\n",
       "<style scoped>\n",
       "    .dataframe tbody tr th:only-of-type {\n",
       "        vertical-align: middle;\n",
       "    }\n",
       "\n",
       "    .dataframe tbody tr th {\n",
       "        vertical-align: top;\n",
       "    }\n",
       "\n",
       "    .dataframe thead tr th {\n",
       "        text-align: left;\n",
       "    }\n",
       "\n",
       "    .dataframe thead tr:last-of-type th {\n",
       "        text-align: right;\n",
       "    }\n",
       "</style>\n",
       "<table border=\"1\" class=\"dataframe\">\n",
       "  <thead>\n",
       "    <tr>\n",
       "      <th></th>\n",
       "      <th colspan=\"3\" halign=\"left\">review_avg</th>\n",
       "    </tr>\n",
       "    <tr>\n",
       "      <th></th>\n",
       "      <th>count</th>\n",
       "      <th>mean</th>\n",
       "      <th>median</th>\n",
       "    </tr>\n",
       "    <tr>\n",
       "      <th>beer_name</th>\n",
       "      <th></th>\n",
       "      <th></th>\n",
       "      <th></th>\n",
       "    </tr>\n",
       "  </thead>\n",
       "  <tbody>\n",
       "    <tr>\n",
       "      <th>Trappist Westvleteren 12</th>\n",
       "      <td>1272</td>\n",
       "      <td>4.601415</td>\n",
       "      <td>4.7</td>\n",
       "    </tr>\n",
       "    <tr>\n",
       "      <th>The Abyss</th>\n",
       "      <td>1410</td>\n",
       "      <td>4.517305</td>\n",
       "      <td>4.6</td>\n",
       "    </tr>\n",
       "    <tr>\n",
       "      <th>Pliny The Elder</th>\n",
       "      <td>2522</td>\n",
       "      <td>4.534417</td>\n",
       "      <td>4.6</td>\n",
       "    </tr>\n",
       "  </tbody>\n",
       "</table>\n",
       "</div>"
      ],
      "text/plain": [
       "                         review_avg                 \n",
       "                              count      mean median\n",
       "beer_name                                           \n",
       "Trappist Westvleteren 12       1272  4.601415    4.7\n",
       "The Abyss                      1410  4.517305    4.6\n",
       "Pliny The Elder                2522  4.534417    4.6"
      ]
     },
     "execution_count": 514,
     "metadata": {},
     "output_type": "execute_result"
    }
   ],
   "source": [
    "friend_recoomendation[:3]"
   ]
  },
  {
   "cell_type": "code",
   "execution_count": 515,
   "metadata": {},
   "outputs": [
    {
     "name": "stdout",
     "output_type": "stream",
     "text": [
      " I would recommend the below beer to my friends :  ['Trappist Westvleteren 12' 'The Abyss' 'Pliny The Elder'\n",
      " 'Founders KBS (Kentucky Breakfast Stout)' 'Dark Lord Imperial Stout']\n"
     ]
    }
   ],
   "source": [
    "print(' I would recommend the below beer to my friends : ' , friend_recoomendation[:5].index.values)"
   ]
  },
  {
   "cell_type": "markdown",
   "metadata": {},
   "source": [
    "## 6. Models\n"
   ]
  },
  {
   "cell_type": "markdown",
   "metadata": {},
   "source": [
    "- I started to look into problem in terms of classification initially as the number of labels were fixed from 0 to 5 with .5 interval\n",
    "- Then I have analyzed it as a regression problem as I wanted to see how the performace of the model changes and whether my assumption of making it a classification problems works\n",
    "- I have higlihted my findings at the end "
   ]
  },
  {
   "cell_type": "markdown",
   "metadata": {},
   "source": [
    "#### Results below for the time I treated it as a classification problem"
   ]
  },
  {
   "cell_type": "code",
   "execution_count": 96,
   "metadata": {},
   "outputs": [],
   "source": [
    "beer_data_friend_1 = beer_data_friend.copy()\n",
    "beer_data_friend_1.drop(columns=['brewery_id','brewery_name','beer_style','review_profilename','beer_name','review_avg','beer_beerid','review_time'], inplace = True)"
   ]
  },
  {
   "cell_type": "code",
   "execution_count": 397,
   "metadata": {},
   "outputs": [],
   "source": [
    "clean_beer_data_classification = clean_beer_data.copy()"
   ]
  },
  {
   "cell_type": "code",
   "execution_count": 399,
   "metadata": {},
   "outputs": [],
   "source": [
    "clean_beer_data_classification['review_overall'] = clean_beer_data_classification['review_overall'].astype(str)"
   ]
  },
  {
   "cell_type": "code",
   "execution_count": 400,
   "metadata": {},
   "outputs": [],
   "source": [
    "# i am using the test, train split as 99% to 1%, as the number of datarows are huge and I want my model to perform better\n",
    "# so, i will train it on alot of data and test it on a on fewer set of data\n",
    "\n",
    "X = clean_beer_data_classification.loc[:,'review_aroma':]\n",
    "Y = clean_beer_data_classification.loc[:, 'review_overall']\n",
    "X_train, X_test, y_train, y_test = train_test_split(X, Y, test_size = .01,stratify = clean_beer_data_classification['review_overall'])"
   ]
  },
  {
   "cell_type": "code",
   "execution_count": 401,
   "metadata": {},
   "outputs": [],
   "source": [
    "# craeted a function 'model' for the train and test of the various models which I pass\n",
    "\n",
    "def model_classification(model, X_train, X_test, y_train, y_test):\n",
    "    sc = StandardScaler() \n",
    "    sc.fit(X_train)\n",
    "    X_train = sc.transform(X_train)\n",
    "    X_test = sc.transform(X_test)\n",
    "    model.fit(X_train, y_train)\n",
    "    y_pred = model.predict(X_test)\n",
    "    y_train_pred = model.predict(X_train)\n",
    "    train_accuracy = accuracy_score(y_train, y_train_pred)\n",
    "    test_accuracy = accuracy_score(y_test, y_pred)\n",
    "    return [train_accuracy,test_accuracy,y_pred,y_train_pred]                 "
   ]
  },
  {
   "cell_type": "markdown",
   "metadata": {},
   "source": [
    "##### Model 1 : Random Forest Classifier"
   ]
  },
  {
   "cell_type": "code",
   "execution_count": 402,
   "metadata": {},
   "outputs": [
    {
     "name": "stderr",
     "output_type": "stream",
     "text": [
      "C:\\ProgramData\\Anaconda3\\lib\\site-packages\\sklearn\\preprocessing\\data.py:625: DataConversionWarning: Data with input dtype uint8, float64 were all converted to float64 by StandardScaler.\n",
      "  return self.partial_fit(X, y)\n",
      "C:\\ProgramData\\Anaconda3\\lib\\site-packages\\ipykernel_launcher.py:5: DataConversionWarning: Data with input dtype uint8, float64 were all converted to float64 by StandardScaler.\n",
      "  \"\"\"\n",
      "C:\\ProgramData\\Anaconda3\\lib\\site-packages\\ipykernel_launcher.py:6: DataConversionWarning: Data with input dtype uint8, float64 were all converted to float64 by StandardScaler.\n",
      "  \n",
      "C:\\ProgramData\\Anaconda3\\lib\\site-packages\\sklearn\\ensemble\\forest.py:246: FutureWarning: The default value of n_estimators will change from 10 in version 0.20 to 100 in 0.22.\n",
      "  \"10 in version 0.20 to 100 in 0.22.\", FutureWarning)\n"
     ]
    }
   ],
   "source": [
    "random_forest_model = RandomForestClassifier()\n",
    "random_forest_model_results = model_classification(random_forest_model,X_train, X_test, y_train, y_test)"
   ]
  },
  {
   "cell_type": "code",
   "execution_count": 403,
   "metadata": {},
   "outputs": [
    {
     "name": "stdout",
     "output_type": "stream",
     "text": [
      "train_accuracy :  0.6575544042271708\n",
      "test_accuracy :  0.4767008692242337\n",
      "Time taken for the model to run: 1 minute 32 seconds\n"
     ]
    }
   ],
   "source": [
    "print('train_accuracy : ', random_forest_model_results[0])\n",
    "print('test_accuracy : ', random_forest_model_results[1])"
   ]
  },
  {
   "cell_type": "code",
   "execution_count": 404,
   "metadata": {},
   "outputs": [
    {
     "name": "stdout",
     "output_type": "stream",
     "text": [
      "[[  46   16   25   11    3    1    0    0    1]\n",
      " [  26   34   35   13    9    3    1    1    0]\n",
      " [  14   34  128   78   68   25   13    0    1]\n",
      " [   6    9  101  146  182   68   36    2    3]\n",
      " [   3    7   47  136  618  487  252   20    5]\n",
      " [   1    0   17   53  389 1164 1131  128   12]\n",
      " [   3    1   12   24  202  826 3582  909   80]\n",
      " [   0    0    4    5   24  136 1489 1306  196]\n",
      " [   0    2    2    1    7   12  202  397  270]]\n",
      "\n",
      "\n",
      "              precision    recall  f1-score   support\n",
      "\n",
      "         1.0       0.46      0.45      0.46       103\n",
      "         1.5       0.33      0.28      0.30       122\n",
      "         2.0       0.35      0.35      0.35       361\n",
      "         2.5       0.31      0.26      0.29       553\n",
      "         3.0       0.41      0.39      0.40      1575\n",
      "         3.5       0.43      0.40      0.41      2895\n",
      "         4.0       0.53      0.64      0.58      5639\n",
      "         4.5       0.47      0.41      0.44      3160\n",
      "         5.0       0.48      0.30      0.37       893\n",
      "\n",
      "   micro avg       0.48      0.48      0.48     15301\n",
      "   macro avg       0.42      0.39      0.40     15301\n",
      "weighted avg       0.47      0.48      0.47     15301\n",
      "\n"
     ]
    }
   ],
   "source": [
    "print(confusion_matrix(y_test,random_forest_model_results[2]))\n",
    "print(\"\\n\")\n",
    "print(classification_report(y_test,random_forest_model_results[2]))"
   ]
  },
  {
   "cell_type": "markdown",
   "metadata": {},
   "source": [
    "#####  Model 2 : Logistic Regression "
   ]
  },
  {
   "cell_type": "code",
   "execution_count": 405,
   "metadata": {
    "scrolled": true
   },
   "outputs": [
    {
     "name": "stderr",
     "output_type": "stream",
     "text": [
      "C:\\ProgramData\\Anaconda3\\lib\\site-packages\\sklearn\\preprocessing\\data.py:625: DataConversionWarning: Data with input dtype uint8, float64 were all converted to float64 by StandardScaler.\n",
      "  return self.partial_fit(X, y)\n",
      "C:\\ProgramData\\Anaconda3\\lib\\site-packages\\ipykernel_launcher.py:5: DataConversionWarning: Data with input dtype uint8, float64 were all converted to float64 by StandardScaler.\n",
      "  \"\"\"\n",
      "C:\\ProgramData\\Anaconda3\\lib\\site-packages\\ipykernel_launcher.py:6: DataConversionWarning: Data with input dtype uint8, float64 were all converted to float64 by StandardScaler.\n",
      "  \n",
      "C:\\ProgramData\\Anaconda3\\lib\\site-packages\\sklearn\\linear_model\\logistic.py:460: FutureWarning: Default multi_class will be changed to 'auto' in 0.22. Specify the multi_class option to silence this warning.\n",
      "  \"this warning.\", FutureWarning)\n"
     ]
    }
   ],
   "source": [
    "Logistic_regression_model = LogisticRegression(solver='lbfgs')\n",
    "Logistic_regression_model_results  = model_classification(Logistic_regression_model,X_train, X_test, y_train, y_test)"
   ]
  },
  {
   "cell_type": "code",
   "execution_count": 406,
   "metadata": {},
   "outputs": [
    {
     "name": "stdout",
     "output_type": "stream",
     "text": [
      "train_accuracy :  0.41867026852886113\n",
      "test_accuracy :  0.4153323312201817\n",
      "Time taken for the model to run: 2 minute 1 seconds\n"
     ]
    }
   ],
   "source": [
    "print('train_accuracy : ', Logistic_regression_model_results[0])\n",
    "print('test_accuracy : ', Logistic_regression_model_results[1])"
   ]
  },
  {
   "cell_type": "code",
   "execution_count": 407,
   "metadata": {},
   "outputs": [
    {
     "name": "stdout",
     "output_type": "stream",
     "text": [
      "[[  14    0   24    0   59    2    3    1    0]\n",
      " [   3    0   15    0   91   10    3    0    0]\n",
      " [   2    0   11    0  234   91   23    0    0]\n",
      " [   0    0    4    0  208  226  114    1    0]\n",
      " [   0    0    5    0  135  540  891    4    0]\n",
      " [   0    0    0    0   46  220 2617   12    0]\n",
      " [   0    0    0    0   31   77 5322  204    5]\n",
      " [   0    0    0    0    5   10 2498  640    7]\n",
      " [   0    0    0    0    3    1  374  502   13]]\n",
      "\n",
      "\n"
     ]
    },
    {
     "name": "stderr",
     "output_type": "stream",
     "text": [
      "C:\\ProgramData\\Anaconda3\\lib\\site-packages\\sklearn\\metrics\\classification.py:1143: UndefinedMetricWarning: Precision and F-score are ill-defined and being set to 0.0 in labels with no predicted samples.\n",
      "  'precision', 'predicted', average, warn_for)\n",
      "C:\\ProgramData\\Anaconda3\\lib\\site-packages\\sklearn\\metrics\\classification.py:1143: UndefinedMetricWarning: Precision and F-score are ill-defined and being set to 0.0 in labels with no predicted samples.\n",
      "  'precision', 'predicted', average, warn_for)\n",
      "C:\\ProgramData\\Anaconda3\\lib\\site-packages\\sklearn\\metrics\\classification.py:1143: UndefinedMetricWarning: Precision and F-score are ill-defined and being set to 0.0 in labels with no predicted samples.\n",
      "  'precision', 'predicted', average, warn_for)\n"
     ]
    },
    {
     "name": "stdout",
     "output_type": "stream",
     "text": [
      "              precision    recall  f1-score   support\n",
      "\n",
      "         1.0       0.74      0.14      0.23       103\n",
      "         1.5       0.00      0.00      0.00       122\n",
      "         2.0       0.19      0.03      0.05       361\n",
      "         2.5       0.00      0.00      0.00       553\n",
      "         3.0       0.17      0.09      0.11      1575\n",
      "         3.5       0.19      0.08      0.11      2895\n",
      "         4.0       0.45      0.94      0.61      5639\n",
      "         4.5       0.47      0.20      0.28      3160\n",
      "         5.0       0.52      0.01      0.03       893\n",
      "\n",
      "   micro avg       0.42      0.42      0.42     15301\n",
      "   macro avg       0.30      0.17      0.16     15301\n",
      "weighted avg       0.35      0.42      0.32     15301\n",
      "\n"
     ]
    }
   ],
   "source": [
    "print(confusion_matrix(y_test,Logistic_regression_model_results[2]))\n",
    "print(\"\\n\")\n",
    "print(classification_report(y_test,Logistic_regression_model_results[2]))"
   ]
  },
  {
   "cell_type": "code",
   "execution_count": 446,
   "metadata": {},
   "outputs": [
    {
     "name": "stdout",
     "output_type": "stream",
     "text": [
      "5 top features of Decision Tree : \n",
      "review_taste 75.98552458714313\n",
      "beer_abv 6.758201998148705\n",
      "review_palate 4.5909206903389945\n",
      "review_appearance 2.8295064697837025\n",
      "review_aroma 2.4234809914595905\n",
      "\n",
      "\n",
      "5 top features of Logsitic Regression :  ['review_appearance' 'beer_abv' 'Light Lager' 'American Adjunct Lager'\n",
      " 'review_taste']\n"
     ]
    }
   ],
   "source": [
    "# Comparison for both the models and feature importance\n",
    "\n",
    "print ('5 top features of Decision Tree : ')\n",
    "for importance, name in sorted(zip(random_forest_model.feature_importances_, X.columns),reverse=True)[:5]:\n",
    "    print(name,importance * 100)\n",
    "\n",
    "feature_importance  = Logistic_regression_model.coef_[0]\n",
    "sorted_idx = np.argsort(feature_importance)\n",
    "print('\\n\\n5 top features of Logsitic Regression : ', np.array(X.columns)[sorted_idx][:5])\n"
   ]
  },
  {
   "cell_type": "markdown",
   "metadata": {},
   "source": [
    "As seen above, the problem when treated as a classification problem was showing a very low accuracy. This could be due to the fact the model is not learning well as many of the values are near to the boundary, which could have adverse affect on the underlying model"
   ]
  },
  {
   "cell_type": "markdown",
   "metadata": {},
   "source": [
    "#### Results below for the time I treated it as a Regression problem"
   ]
  },
  {
   "cell_type": "code",
   "execution_count": 426,
   "metadata": {},
   "outputs": [],
   "source": [
    "clean_beer_data_regression = clean_beer_data.copy()\n",
    "clean_beer_data_regression = shuffle(clean_beer_data_regression)"
   ]
  },
  {
   "cell_type": "code",
   "execution_count": 427,
   "metadata": {},
   "outputs": [],
   "source": [
    "X = clean_beer_data_regression.loc[:,'review_aroma':]\n",
    "Y = clean_beer_data_regression.loc[:, 'review_overall']\n",
    "X_train, X_test, y_train, y_test = train_test_split(X, Y, test_size = .01)"
   ]
  },
  {
   "cell_type": "code",
   "execution_count": 429,
   "metadata": {},
   "outputs": [],
   "source": [
    "# made a generic function for the fit and predict function\n",
    "\n",
    "def model_regression (model, X_train, X_test, y_train, y_test):\n",
    "    sc = StandardScaler() \n",
    "    sc.fit(X_train)\n",
    "    X_train = sc.transform(X_train)\n",
    "    X_test = sc.transform(X_test)\n",
    "    model.fit(X_train, y_train)\n",
    "    y_pred = model.predict(X_test)\n",
    "    y_train_pred = model.predict(X_train)\n",
    "    return [y_pred,y_train_pred] "
   ]
  },
  {
   "cell_type": "markdown",
   "metadata": {},
   "source": [
    "##### Model 1 : Linear Regreesion model"
   ]
  },
  {
   "cell_type": "code",
   "execution_count": 430,
   "metadata": {},
   "outputs": [
    {
     "name": "stderr",
     "output_type": "stream",
     "text": [
      "C:\\ProgramData\\Anaconda3\\lib\\site-packages\\sklearn\\preprocessing\\data.py:625: DataConversionWarning: Data with input dtype uint8, float64 were all converted to float64 by StandardScaler.\n",
      "  return self.partial_fit(X, y)\n",
      "C:\\ProgramData\\Anaconda3\\lib\\site-packages\\ipykernel_launcher.py:6: DataConversionWarning: Data with input dtype uint8, float64 were all converted to float64 by StandardScaler.\n",
      "  \n",
      "C:\\ProgramData\\Anaconda3\\lib\\site-packages\\ipykernel_launcher.py:7: DataConversionWarning: Data with input dtype uint8, float64 were all converted to float64 by StandardScaler.\n",
      "  import sys\n"
     ]
    }
   ],
   "source": [
    "\n",
    "\n",
    "Linear_Regression_model = LinearRegression()\n",
    "Linear_Regression_model = model_regression(Linear_Regression_model,X_train, X_test, y_train, y_test)"
   ]
  },
  {
   "cell_type": "code",
   "execution_count": 431,
   "metadata": {},
   "outputs": [
    {
     "name": "stdout",
     "output_type": "stream",
     "text": [
      "train_rms 40.82847663861494\n",
      "test_rms 41.13448271539642\n"
     ]
    }
   ],
   "source": [
    "train_rms = sqrt(mean_squared_error(y_train, Linear_Regression_model[1]))\n",
    "test_rms = sqrt(mean_squared_error(y_test, Linear_Regression_model[0]))\n",
    "print('train_rms',train_rms*100)\n",
    "print('test_rms',test_rms*100)"
   ]
  },
  {
   "cell_type": "markdown",
   "metadata": {},
   "source": [
    "##### Model 2 : Random Forest Regressor Model"
   ]
  },
  {
   "cell_type": "code",
   "execution_count": 432,
   "metadata": {},
   "outputs": [
    {
     "name": "stderr",
     "output_type": "stream",
     "text": [
      "C:\\ProgramData\\Anaconda3\\lib\\site-packages\\sklearn\\preprocessing\\data.py:625: DataConversionWarning: Data with input dtype uint8, float64 were all converted to float64 by StandardScaler.\n",
      "  return self.partial_fit(X, y)\n",
      "C:\\ProgramData\\Anaconda3\\lib\\site-packages\\ipykernel_launcher.py:6: DataConversionWarning: Data with input dtype uint8, float64 were all converted to float64 by StandardScaler.\n",
      "  \n",
      "C:\\ProgramData\\Anaconda3\\lib\\site-packages\\ipykernel_launcher.py:7: DataConversionWarning: Data with input dtype uint8, float64 were all converted to float64 by StandardScaler.\n",
      "  import sys\n",
      "C:\\ProgramData\\Anaconda3\\lib\\site-packages\\sklearn\\ensemble\\forest.py:246: FutureWarning: The default value of n_estimators will change from 10 in version 0.20 to 100 in 0.22.\n",
      "  \"10 in version 0.20 to 100 in 0.22.\", FutureWarning)\n"
     ]
    }
   ],
   "source": [
    "random_forest_model = RandomForestRegressor()\n",
    "random_forest_model_results=model_regression(random_forest_model,X_train, X_test, y_train, y_test)"
   ]
  },
  {
   "cell_type": "code",
   "execution_count": 455,
   "metadata": {},
   "outputs": [
    {
     "name": "stdout",
     "output_type": "stream",
     "text": [
      "train_rms 33.59702602925726\n",
      "test_rms 39.96374584909206\n"
     ]
    }
   ],
   "source": [
    "train_rms = sqrt(mean_squared_error(y_train, random_forest_model_results[1]))\n",
    "test_rms = sqrt(mean_squared_error(y_test, random_forest_model_results[0]))\n",
    "print('train_rms',train_rms*100)\n",
    "print('test_rms',test_rms*100)\n"
   ]
  },
  {
   "cell_type": "code",
   "execution_count": 456,
   "metadata": {},
   "outputs": [
    {
     "name": "stdout",
     "output_type": "stream",
     "text": [
      "5 top features of Decision Tree : \n",
      "review_taste 75.98552458714313\n",
      "beer_abv 6.758201998148705\n",
      "review_palate 4.5909206903389945\n",
      "review_appearance 2.8295064697837025\n",
      "review_aroma 2.4234809914595905\n"
     ]
    }
   ],
   "source": [
    "# Comparison for both the models and feature importance\n",
    "\n",
    "print ('5 top features of Decision Tree : ')\n",
    "for importance, name in sorted(zip(random_forest_model.feature_importances_, X.columns),reverse=True)[:5]:\n",
    "    print(name,importance * 100)"
   ]
  },
  {
   "cell_type": "markdown",
   "metadata": {},
   "source": [
    "There are a few things that I am taking into consideration and some of my observations:\n",
    "1. As shown in the table below, when treating this problem into a classification problem, the results were not good. This could be for the reason that there are many data points near the category boundaries\n",
    "\n",
    "2. Then I took this problem as a regression problem and analyzed the results and results were better than the classification models\n",
    "\n",
    "3. The model that I have created are a simple model with the base parameter (Could have done hyperparameter tuning if time was more)\n",
    "\n",
    "4. I have used the perfomance of the model using two criteria : \n",
    "    - Regression : One of the error metrice for regression(RMSE) and other is the time taken by the model to train and test. I have considered RMSE as it can be converted to a % value to represent the error\n",
    "    - Classification : One of the error metrice are Accuracy, F1 and other is the time taken by the model to train and test\n",
    "\n",
    "<h4>MODELS EXPLAINED :  When I considered it as a classification problem</h4>\n",
    "\n",
    "<table>\n",
    "  <tr>\n",
    "    <th>Model</th>\n",
    "    <th>Train - Accuracy</th>\n",
    "    <th>Test - Accuracy</th>\n",
    "    <th>Test - F1 Score</th>\n",
    "    <th>Time for train</th>\n",
    "    <th>Time for test</th>\n",
    "  </tr>\n",
    "  <tr>\n",
    "    <td>Random Forest</td>\n",
    "    <td>0.6575544042271708</td>\n",
    "    <td>0.4767008692242337</td>\n",
    "      <td>0.47</td>\n",
    "     <td>~101 seconds</td>\n",
    "      <td>~5 seconds</td>\n",
    "  </tr>\n",
    "     <tr>\n",
    "    <td>Logistic Regression</td>\n",
    "    <td>0.41867026852886113</td>\n",
    "    <td>0.4153323312201817</td>\n",
    "         <td>0.32</td>\n",
    "    <td>~109 seconds</td>\n",
    "     <td>~5 seconds</td>\n",
    "  </tr>\n",
    "  \n",
    "</table>\n",
    "\n",
    "<h4>MODELS EXPLAINED :  When I considered it as a Regression problem</h4>\n",
    "\n",
    "<table>\n",
    "  <tr>\n",
    "    <th>Model</th>\n",
    "    <th>Train - RMSE (% error)</th>\n",
    "    <th>Test - RMSE (% error)</th>\n",
    "    <th>Time for train</th>\n",
    "    <th>Time for test</th>\n",
    "  </tr>\n",
    "  <tr>\n",
    "    <td>Random Forest</td>\n",
    "    <td>33.59702602925726</td>\n",
    "    <td>39.96374584909206</td>\n",
    "     <td>~94 seconds</td>\n",
    "      <td> ~7 seconds</td>\n",
    "  </tr>\n",
    "     <tr>\n",
    "    <td>Linear Regression</td>\n",
    "    <td>40.82847663861494</td>\n",
    "    <td>41.13448271539642</td>\n",
    "    <td>~83seconds</td>\n",
    "     <td>~5 seconds</td>\n",
    "  </tr>\n",
    "  \n",
    "</table>\n",
    "\n",
    "Based on the above results which takes into account the RMSE and time taken to compute, I would recommend The Random Forest Regressor Model as the model % error is less and the time taken to compute is close to the linear regression model\n",
    "\n",
    "The feature importance/relevance of features that the model highlighted are:\n",
    "- review_taste 75.98552458714313\n",
    "- beer_abv 6.758201998148705\n",
    "- review_palate 4.5909206903389945\n",
    "- review_appearance 2.8295064697837025\n",
    "- review_aroma 2.4234809914595905\n"
   ]
  },
  {
   "cell_type": "markdown",
   "metadata": {},
   "source": [
    "## 7. Overview and recommendation to the senior management:"
   ]
  },
  {
   "cell_type": "code",
   "execution_count": 465,
   "metadata": {
    "scrolled": true
   },
   "outputs": [
    {
     "name": "stdout",
     "output_type": "stream",
     "text": [
      "1. The Dataset had a total of : 1586614 beers\n",
      "\n",
      "2. The numbers of unique beers present in the datset were :  56857 \n",
      "\n",
      "3. There were a lot of parameters on which the review of the beers were given. The parameters were :  ['brewery_id', 'brewery_name', 'review_time', 'review_overall', 'review_aroma', 'review_appearance', 'review_profilename', 'beer_style', 'review_palate', 'review_taste', 'beer_name', 'beer_abv', 'beer_beerid'] \n",
      "\n",
      "4. The trend were measure in the years :  [2009 2010 2012 2011 2002 2004 2003 2001 2008 2007 2006 2005 2000 1999\n",
      " 1998 1996] \n",
      "\n",
      "5. As the primary focus was to consider a beer with best overall review, let me show how the different parameters are affecting the overall score\n"
     ]
    },
    {
     "data": {
      "image/png": "[encoded data removed]",
      "text/plain": [
       "<Figure size 1440x432 with 2 Axes>"
      ]
     },
     "metadata": {
      "needs_background": "light"
     },
     "output_type": "display_data"
    },
    {
     "name": "stdout",
     "output_type": "stream",
     "text": [
      " - Each of these attributes has a positive relationship with the overall score\n",
      "\n",
      " - The review_taste and review_palate are having a higher correlation score which suggests that they are contributing more to the overall score than review_appearance and review_aroma\n",
      "\n",
      " - Taste has the highest Pearson’s coefficient of correlation value of r = 0.79 with the overall score\n",
      "\n",
      " - The reviewers care less about beer smell and appereance of the beer and are focused more on the taste and alcohol content. I also agree with the following hypothesis as it is a very commmon obseravtion that I have also had\n",
      "\n"
     ]
    }
   ],
   "source": [
    "print('1. The Dataset had a total of :', len(beer_data),'beers\\n')\n",
    "print('2. The numbers of unique beers present in the datset were : ', len(beer_data['beer_name'].unique()),'\\n')\n",
    "print('3. There were a lot of parameters on which the review of the beers were given. The parameters were : ', beer_data.columns.tolist(),'\\n')\n",
    "print('4. The trend were measure in the years : ',  beer_data['review_time'].unique(),'\\n')\n",
    "\n",
    "print('5. As the primary focus was to consider a beer with best overall review, let me show how the different parameters are affecting the overall score') \n",
    "corr = beer_data.corr()\n",
    "fig, ax = plt.subplots(figsize=(20,6)) \n",
    "sns.heatmap(corr, annot=True, xticklabels=corr.columns.values, yticklabels=corr.columns.values, linewidths=.5, ax = ax)\n",
    "plt.title('Pearson’s coefficient of correlation : between each of independent variable and the overall review score')\n",
    "plt.show()\n",
    "\n",
    "print(' - Each of these attributes has a positive relationship with the overall score\\n')\n",
    "print(' - The review_taste and review_palate are having a higher correlation score which suggests that they are contributing more to the overall score than review_appearance and review_aroma\\n')\n",
    "print(' - Taste has the highest Pearson’s coefficient of correlation value of r = 0.79 with the overall score\\n')\n",
    "print(' - The reviewers care less about beer smell and appereance of the beer and are focused more on the taste and alcohol content. I also agree with the following hypothesis as it is a very commmon obseravtion that I have also had\\n')"
   ]
  },
  {
   "cell_type": "code",
   "execution_count": null,
   "metadata": {},
   "outputs": [],
   "source": []
  }
 ],
 "metadata": {
  "kernelspec": {
   "display_name": "Python 3",
   "language": "python",
   "name": "python3"
  },
  "language_info": {
   "codemirror_mode": {
    "name": "ipython",
    "version": 3
   },
   "file_extension": ".py",
   "mimetype": "text/x-python",
   "name": "python",
   "nbconvert_exporter": "python",
   "pygments_lexer": "ipython3",
   "version": "3.7.1"
  }
 },
 "nbformat": 4,
 "nbformat_minor": 2
}
